{
 "cells": [
  {
   "cell_type": "code",
   "execution_count": 3,
   "id": "8d540b02",
   "metadata": {},
   "outputs": [
    {
     "name": "stdout",
     "output_type": "stream",
     "text": [
      "Requirement already satisfied: pyside6 in c:\\users\\sneha\\anaconda3\\lib\\site-packages (6.5.1.1)\n",
      "Requirement already satisfied: PySide6-Essentials==6.5.1.1 in c:\\users\\sneha\\anaconda3\\lib\\site-packages (from pyside6) (6.5.1.1)\n",
      "Requirement already satisfied: shiboken6==6.5.1.1 in c:\\users\\sneha\\anaconda3\\lib\\site-packages (from pyside6) (6.5.1.1)\n",
      "Requirement already satisfied: PySide6-Addons==6.5.1.1 in c:\\users\\sneha\\anaconda3\\lib\\site-packages (from pyside6) (6.5.1.1)\n",
      "Note: you may need to restart the kernel to use updated packages.\n"
     ]
    }
   ],
   "source": [
    "pip install pyside6\n"
   ]
  },
  {
   "cell_type": "code",
   "execution_count": 5,
   "id": "5291279e",
   "metadata": {},
   "outputs": [],
   "source": [
    "from PySide6.QtWidgets import QApplication, QWidget"
   ]
  },
  {
   "cell_type": "code",
   "execution_count": 6,
   "id": "cd82f8ce",
   "metadata": {},
   "outputs": [],
   "source": [
    "import sys"
   ]
  },
  {
   "cell_type": "code",
   "execution_count": 7,
   "id": "03cd45b4",
   "metadata": {},
   "outputs": [
    {
     "data": {
      "text/plain": [
       "0"
      ]
     },
     "execution_count": 7,
     "metadata": {},
     "output_type": "execute_result"
    }
   ],
   "source": [
    "app = QApplication(sys.argv)\n",
    "window = QWidget()\n",
    "window.show()\n",
    "app.exec()"
   ]
  },
  {
   "cell_type": "code",
   "execution_count": null,
   "id": "d86d5256",
   "metadata": {},
   "outputs": [],
   "source": []
  }
 ],
 "metadata": {
  "kernelspec": {
   "display_name": "Python 3 (ipykernel)",
   "language": "python",
   "name": "python3"
  },
  "language_info": {
   "codemirror_mode": {
    "name": "ipython",
    "version": 3
   },
   "file_extension": ".py",
   "mimetype": "text/x-python",
   "name": "python",
   "nbconvert_exporter": "python",
   "pygments_lexer": "ipython3",
   "version": "3.10.9"
  }
 },
 "nbformat": 4,
 "nbformat_minor": 5
}
